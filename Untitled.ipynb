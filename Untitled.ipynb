{
 "cells": [
  {
   "cell_type": "markdown",
   "metadata": {},
   "source": [
    "# For Simply Supported Beam"
   ]
  },
  {
   "cell_type": "code",
   "execution_count": 1,
   "metadata": {},
   "outputs": [
    {
     "data": {
      "text/html": [
       "<img src=\"a-simply-supported-beam-under-a-point-load-applied-at-its-center-The-value-of-shear-force.png\"/>"
      ],
      "text/plain": [
       "<IPython.core.display.Image object>"
      ]
     },
     "execution_count": 1,
     "metadata": {},
     "output_type": "execute_result"
    }
   ],
   "source": [
    "from IPython.display import Image\n",
    "from IPython.core.display import HTML \n",
    "Image(url= \"a-simply-supported-beam-under-a-point-load-applied-at-its-center-The-value-of-shear-force.png\")"
   ]
  },
  {
   "cell_type": "markdown",
   "metadata": {},
   "source": [
    "### INPUT : \n",
    "* Length(L), \n",
    "* Modulus of Elasticity(E), \n",
    "* Second Moment of Area(I), and \n",
    "* Load(P)\n",
    "\n",
    "### OUTPUT:\n",
    "* theta1, and\n",
    "* theta2\n",
    "\n",
    "### BOUNDARY CONDITIONS:\n",
    "* m1=0, and\n",
    "* m2=0"
   ]
  },
  {
   "cell_type": "code",
   "execution_count": 2,
   "metadata": {},
   "outputs": [
    {
     "name": "stdout",
     "output_type": "stream",
     "text": [
      "Enter Length of the member (L) - 10\n"
     ]
    }
   ],
   "source": [
    "L = float(input(\"Enter Length of the member (L) - \"))"
   ]
  },
  {
   "cell_type": "code",
   "execution_count": 3,
   "metadata": {},
   "outputs": [
    {
     "name": "stdout",
     "output_type": "stream",
     "text": [
      "Enter Modulus of Elasticity (E) - 1\n"
     ]
    }
   ],
   "source": [
    "E = float(input(\"Enter Modulus of Elasticity (E) - \"))"
   ]
  },
  {
   "cell_type": "code",
   "execution_count": 4,
   "metadata": {},
   "outputs": [
    {
     "name": "stdout",
     "output_type": "stream",
     "text": [
      "Enter Second Moment of Area (I)) - 2\n"
     ]
    }
   ],
   "source": [
    "I = float(input(\"Enter Second Moment of Area (I)) - \"))"
   ]
  },
  {
   "cell_type": "code",
   "execution_count": 5,
   "metadata": {},
   "outputs": [
    {
     "name": "stdout",
     "output_type": "stream",
     "text": [
      "Enter Load (P) - 3\n"
     ]
    }
   ],
   "source": [
    "P = float(input(\"Enter Load (P) - \"))"
   ]
  },
  {
   "cell_type": "markdown",
   "metadata": {},
   "source": [
    "We can take EI as a constant (variable Z)"
   ]
  },
  {
   "cell_type": "code",
   "execution_count": 6,
   "metadata": {},
   "outputs": [
    {
     "name": "stdout",
     "output_type": "stream",
     "text": [
      "Z = 2.0\n"
     ]
    }
   ],
   "source": [
    "Z = (E * I)\n",
    "print(\"Z = \" + str(Z))"
   ]
  },
  {
   "cell_type": "markdown",
   "metadata": {},
   "source": [
    "Importing the Numpy library to make 2D arrays(Matrices)"
   ]
  },
  {
   "cell_type": "code",
   "execution_count": 7,
   "metadata": {},
   "outputs": [],
   "source": [
    "import numpy as np"
   ]
  },
  {
   "cell_type": "markdown",
   "metadata": {},
   "source": [
    "Taking K as stiffness matrix"
   ]
  },
  {
   "cell_type": "code",
   "execution_count": 8,
   "metadata": {},
   "outputs": [],
   "source": [
    "K = np.array([[ (12*Z)/(L**3), (6*Z)/(L**2), -(12*Z)/(L**3), (6*Z)/(L**2) ],\n",
    "              \n",
    "              [ (6*Z)/(L**2), (4*Z)/(L), -(6*Z)/(L**2), (2*Z)/(L) ], \n",
    "              \n",
    "              [ -(12*Z)/(L**3), -(6*Z)/(L**2), (12*Z)/(L**3), -(6*Z)/(L**2) ],\n",
    "              \n",
    "              [ (6*Z)/(L**2), (2*Z)/(L), -(6*Z)/(L**2), (4*Z)/(L) ]])"
   ]
  },
  {
   "cell_type": "code",
   "execution_count": 9,
   "metadata": {},
   "outputs": [
    {
     "data": {
      "text/plain": [
       "(4, 4)"
      ]
     },
     "execution_count": 9,
     "metadata": {},
     "output_type": "execute_result"
    }
   ],
   "source": [
    "K.shape"
   ]
  },
  {
   "cell_type": "markdown",
   "metadata": {},
   "source": [
    "F = np.array([ f1, m1, f2, m2])"
   ]
  },
  {
   "cell_type": "code",
   "execution_count": 10,
   "metadata": {},
   "outputs": [
    {
     "data": {
      "text/plain": [
       "array([ -1.5, -15. ,  -1.5,  15. ])"
      ]
     },
     "execution_count": 10,
     "metadata": {},
     "output_type": "execute_result"
    }
   ],
   "source": [
    "P_matrix = np.array([-P/2, -P*L/2, -P/2, P*L/2])\n",
    "P_matrix"
   ]
  },
  {
   "cell_type": "code",
   "execution_count": 11,
   "metadata": {},
   "outputs": [],
   "source": [
    "m1=0\n",
    "m2=0"
   ]
  },
  {
   "cell_type": "code",
   "execution_count": 12,
   "metadata": {},
   "outputs": [
    {
     "data": {
      "text/plain": [
       "array([-15.,  15.])"
      ]
     },
     "execution_count": 12,
     "metadata": {},
     "output_type": "execute_result"
    }
   ],
   "source": [
    "P_re =  P_matrix[1::2]\n",
    "P_re"
   ]
  },
  {
   "cell_type": "markdown",
   "metadata": {},
   "source": [
    "Since m1=0, m2=0 . We have K_re as"
   ]
  },
  {
   "cell_type": "code",
   "execution_count": 13,
   "metadata": {},
   "outputs": [
    {
     "data": {
      "text/plain": [
       "array([[ 0.024,  0.12 , -0.024,  0.12 ],\n",
       "       [ 0.12 ,  0.8  , -0.12 ,  0.4  ],\n",
       "       [-0.024, -0.12 ,  0.024, -0.12 ],\n",
       "       [ 0.12 ,  0.4  , -0.12 ,  0.8  ]])"
      ]
     },
     "execution_count": 13,
     "metadata": {},
     "output_type": "execute_result"
    }
   ],
   "source": [
    "K"
   ]
  },
  {
   "cell_type": "code",
   "execution_count": 14,
   "metadata": {},
   "outputs": [
    {
     "data": {
      "text/plain": [
       "array([[0.8, 0.4],\n",
       "       [0.4, 0.8]])"
      ]
     },
     "execution_count": 14,
     "metadata": {},
     "output_type": "execute_result"
    }
   ],
   "source": [
    "# Slicing the matrix( 2D numpy array)\n",
    "K_re = K[1::2,1::2]\n",
    "K_re"
   ]
  },
  {
   "cell_type": "markdown",
   "metadata": {},
   "source": [
    "Now we have [P_re] = [K_re] x [theta1 , theta 2]"
   ]
  },
  {
   "cell_type": "markdown",
   "metadata": {},
   "source": [
    "[theta1 , theta 2] = inverse([K_re]) x [P_re]"
   ]
  },
  {
   "cell_type": "code",
   "execution_count": 15,
   "metadata": {},
   "outputs": [
    {
     "data": {
      "text/plain": [
       "array([[ 1.66666667, -0.83333333],\n",
       "       [-0.83333333,  1.66666667]])"
      ]
     },
     "execution_count": 15,
     "metadata": {},
     "output_type": "execute_result"
    }
   ],
   "source": [
    "K_re_inverse = np.linalg.inv(K_re)\n",
    "K_re_inverse"
   ]
  },
  {
   "cell_type": "code",
   "execution_count": 16,
   "metadata": {},
   "outputs": [],
   "source": [
    "theta = np.dot(K_re_inverse,P_re)"
   ]
  },
  {
   "cell_type": "code",
   "execution_count": 17,
   "metadata": {},
   "outputs": [
    {
     "data": {
      "text/plain": [
       "array([-37.5,  37.5])"
      ]
     },
     "execution_count": 17,
     "metadata": {},
     "output_type": "execute_result"
    }
   ],
   "source": [
    "theta"
   ]
  },
  {
   "cell_type": "code",
   "execution_count": 18,
   "metadata": {},
   "outputs": [],
   "source": [
    "theta1 = theta[0]\n",
    "theta2 = theta[1]"
   ]
  },
  {
   "cell_type": "code",
   "execution_count": 19,
   "metadata": {},
   "outputs": [
    {
     "name": "stdout",
     "output_type": "stream",
     "text": [
      "theta1 = -37.5 , theta2 = 37.5\n"
     ]
    }
   ],
   "source": [
    "print(\"theta1 = \" + str(round(theta1,3)) \n",
    "      + \" , \" +\n",
    "      \"theta2 = \"  + str(round(theta2,3)))"
   ]
  },
  {
   "cell_type": "code",
   "execution_count": null,
   "metadata": {},
   "outputs": [],
   "source": []
  }
 ],
 "metadata": {
  "kernelspec": {
   "display_name": "Python 3",
   "language": "python",
   "name": "python3"
  },
  "language_info": {
   "codemirror_mode": {
    "name": "ipython",
    "version": 3
   },
   "file_extension": ".py",
   "mimetype": "text/x-python",
   "name": "python",
   "nbconvert_exporter": "python",
   "pygments_lexer": "ipython3",
   "version": "3.7.6"
  }
 },
 "nbformat": 4,
 "nbformat_minor": 4
}
